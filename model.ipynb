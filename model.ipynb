{
 "cells": [
  {
   "cell_type": "code",
   "execution_count": 4,
   "metadata": {},
   "outputs": [],
   "source": [
    "import numpy as np\n",
    "import torch\n",
    "import torch.nn as nn\n",
    "import torch.nn.functional as F\n",
    "import torch.optim as optim\n",
    "import matplotlib.pyplot as plt\n",
    "import torchvision.models as models"
   ]
  },
  {
   "cell_type": "code",
   "execution_count": 2,
   "metadata": {},
   "outputs": [],
   "source": [
    "class AutoencoderRGB(nn.Module):\n",
    "    def __init__(self):\n",
    "        super(AutoencoderRGB, self).__init__()\n",
    "        # input size = 1024*1024\n",
    "        self.resnet = models.resnet50(pretrained=True)\n",
    "        # Remove the last linear layer and replace it with a convolutional layer\n",
    "        self.encoder = nn.Sequential(*list(self.resnet.children())[:-1], nn.Conv2d(2048, 4096, kernel_size=1))\n",
    "        self.decoder = nn.Sequential(\n",
    "            nn.ConvTranspose2d(4096, 2048, kernel_size=2, stride=2),\n",
    "            nn.ReLU(inplace=True),\n",
    "            nn.ConvTranspose2d(2048, 1024, kernel_size=3, stride=1, padding=1),\n",
    "            nn.ReLU(inplace=True),\n",
    "            nn.ConvTranspose2d(1024, 512, kernel_size=3, stride=2, padding=1, output_padding=1),\n",
    "            nn.ReLU(inplace=True),\n",
    "            nn.ConvTranspose2d(512, 256, kernel_size=3, stride=2, padding=1, output_padding=1),\n",
    "            nn.ReLU(inplace=True),\n",
    "            nn.ConvTranspose2d(256, 128, kernel_size=3, stride=2, padding=1, output_padding=1),\n",
    "            nn.ReLU(inplace=True),\n",
    "            nn.ConvTranspose2d(128, 64, kernel_size=3, stride=2, padding=1, output_padding=1),\n",
    "            nn.ReLU(inplace=True),\n",
    "            nn.ConvTranspose2d(64, 3, kernel_size=3, stride=1, padding=1),\n",
    "            nn.Tanh()\n",
    "        )\n",
    "        \n",
    "    def forwardRGB(self, x):\n",
    "        x = self.encoder(x)\n",
    "        x = self.decoder(x)\n",
    "        return x\n",
    "    \n",
    "    def forwardGray(self, x):\n",
    "        x = np.repeat(x[..., np.newaxis], 3, -1) # double check this\n",
    "        x = self.encoder(x)\n",
    "        x = self.decoder(x)\n",
    "        return x"
   ]
  },
  {
   "cell_type": "code",
   "execution_count": null,
   "metadata": {},
   "outputs": [],
   "source": [
    "class AutoencoderGray(nn.Module):\n",
    "    def __init__(self):\n",
    "        super(AutoencoderGray, self).__init__()\n",
    "        # input size = 1024*1024\n",
    "        self.resnet = models.resnet50(pretrained=True)\n",
    "        # Remove the last linear layer and replace it with a convolutional layer\n",
    "        self.encoder = nn.Sequential(*list(self.resnet.children())[:-1], nn.Conv2d(2048, 4096, kernel_size=1))\n",
    "        self.decoder = nn.Sequential(\n",
    "            nn.ConvTranspose2d(4096, 2048, kernel_size=2, stride=2),\n",
    "            nn.ReLU(inplace=True),\n",
    "            nn.ConvTranspose2d(2048, 1024, kernel_size=3, stride=1, padding=1),\n",
    "            nn.ReLU(inplace=True),\n",
    "            nn.ConvTranspose2d(1024, 512, kernel_size=3, stride=2, padding=1, output_padding=1),\n",
    "            nn.ReLU(inplace=True),\n",
    "            nn.ConvTranspose2d(512, 256, kernel_size=3, stride=2, padding=1, output_padding=1),\n",
    "            nn.ReLU(inplace=True),\n",
    "            nn.ConvTranspose2d(256, 128, kernel_size=3, stride=2, padding=1, output_padding=1),\n",
    "            nn.ReLU(inplace=True),\n",
    "            nn.ConvTranspose2d(128, 64, kernel_size=3, stride=2, padding=1, output_padding=1),\n",
    "            nn.ReLU(inplace=True),\n",
    "            nn.ConvTranspose2d(64, 3, kernel_size=3, stride=1, padding=1),\n",
    "            nn.Tanh()\n",
    "        )"
   ]
  },
  {
   "cell_type": "code",
   "execution_count": 3,
   "metadata": {},
   "outputs": [],
   "source": [
    "def trainRGB(model, train_data, valid_data, num_epochs=5, batch_size=64, learning_rate=1e-3, RGB = True, plot = True):\n",
    "    torch.manual_seed(42)\n",
    "    criterion = nn.CrossEntropyLoss() # mean square error loss\n",
    "    optimizer = torch.optim.Adam(model.parameters(), lr=learning_rate, weight_decay=1e-5) \n",
    "    \n",
    "    train_loader = torch.utils.data.DataLoader(train_data, batch_size=batch_size, shuffle=True)\n",
    "    valid_loader = torch.utils.data.DataLoader(valid_data, batch_size=batch_size, shuffle=True)\n",
    "    train_outputs, valid_outputs = [], []\n",
    "    for epoch in range(num_epochs):\n",
    "        for train_data, train_label in train_loader:\n",
    "            train_output = model.forwardRGB(img) if RGB else model.forwardGray(img)\n",
    "            img = img.view(-1, 1024*1024*3)\n",
    "            loss = criterion(train_output, train_label)\n",
    "            loss.backward()\n",
    "            optimizer.step()\n",
    "            optimizer.zero_grad()\n",
    "        \n",
    "        for valid_data, valid_label in valid_loader:\n",
    "            valid_output = model.forwardRGB(img) if RGB else model.forwardGray(img)\n",
    "            loss_val = criterion(valid_output, valid_label)\n",
    "\n",
    "        print('Epoch:{}, Loss:{:.4f}'.format(epoch+1, float(loss)))\n",
    "        outputs.append((epoch, img, output),)\n",
    "        \n",
    "        \n",
    "    if plot:\n",
    "        plt.title(\"Training/Validation loss\")\n",
    "        plt.plot(loss, label=\"Training Loss\")\n",
    "        plt.plot(val_losses, label=\"Validation Loss\")\n",
    "        plt.xlabel(\"Iterations\")\n",
    "        plt.legend(loc='best')\n",
    "        plt.show()\n",
    "        \n",
    "        plt.figure()\n",
    "        plt.title(\"Training/Validation loss\")\n",
    "        plt.plot(train_accs, label=\"Training Accuracy\")\n",
    "        plt.plot(val_accs, label=\"Validation Accuracy\")\n",
    "        plt.xlabel(\"Iterations\")\n",
    "        plt.legend(loc='best')\n",
    "        plt.show()\n",
    "         \n",
    "    return train_outputs, valid_outputs"
   ]
  }
 ],
 "metadata": {
  "kernelspec": {
   "display_name": "ml",
   "language": "python",
   "name": "python3"
  },
  "language_info": {
   "codemirror_mode": {
    "name": "ipython",
    "version": 3
   },
   "file_extension": ".py",
   "mimetype": "text/x-python",
   "name": "python",
   "nbconvert_exporter": "python",
   "pygments_lexer": "ipython3",
   "version": "3.10.9"
  },
  "orig_nbformat": 4,
  "vscode": {
   "interpreter": {
    "hash": "c49373b72682a5f1e4c3300c23dc7dffcdc3086c9b8a7c9813893a635d3f9031"
   }
  }
 },
 "nbformat": 4,
 "nbformat_minor": 2
}
