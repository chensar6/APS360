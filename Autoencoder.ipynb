{
  "nbformat": 4,
  "nbformat_minor": 0,
  "metadata": {
    "colab": {
      "provenance": [],
      "include_colab_link": true
    },
    "kernelspec": {
      "name": "python3",
      "display_name": "Python 3"
    },
    "language_info": {
      "name": "python"
    },
    "accelerator": "GPU",
    "gpuClass": "premium"
  },
  "cells": [
    {
      "cell_type": "markdown",
      "metadata": {
        "id": "view-in-github",
        "colab_type": "text"
      },
      "source": [
        "<a href=\"https://colab.research.google.com/github/chensar6/APS360/blob/main/Autoencoder.ipynb\" target=\"_parent\"><img src=\"https://colab.research.google.com/assets/colab-badge.svg\" alt=\"Open In Colab\"/></a>"
      ]
    },
    {
      "cell_type": "code",
      "source": [
        "from google.colab import drive\n",
        "drive.mount('/content/drive')\n",
        "\n",
        "!ls -a \"/content/drive/MyDrive/APS360_Images\""
      ],
      "metadata": {
        "id": "EcOPYiUcHi9h",
        "colab": {
          "base_uri": "https://localhost:8080/"
        },
        "outputId": "a34f844c-33ab-4ef3-c09c-9e1bceb7272c"
      },
      "execution_count": 2,
      "outputs": [
        {
          "output_type": "stream",
          "name": "stdout",
          "text": [
            "Mounted at /content/drive\n",
            "\"Ahmed's Colab.ipynb\"\t\t Final_Data_Acc       Test.ipynb\n",
            " bounding_box_processing.ipynb\t .ipynb_checkpoints\n",
            " Final_Data\t\t\t Raw_Data\n"
          ]
        }
      ]
    },
    {
      "cell_type": "code",
      "execution_count": 3,
      "metadata": {
        "id": "Q9AJCSFSHSPv"
      },
      "outputs": [],
      "source": [
        "import os\n",
        "import cv2\n",
        "import gc\n",
        "import numpy as np\n",
        "import matplotlib.pyplot as plt"
      ]
    },
    {
      "cell_type": "markdown",
      "source": [
        "-----\n",
        "----\n",
        "The following is for rotating and saving images"
      ],
      "metadata": {
        "id": "kCdokpdorNrK"
      }
    },
    {
      "cell_type": "code",
      "source": [
        "# function to rotate and resize the image\n",
        "# will want to save these, I still need to look into saving- Narender\n",
        "def rotateResizeImage(img):\n",
        "  img1 = cv2.rotate(img, cv2.ROTATE_90_CLOCKWISE)\n",
        "  img2 = cv2.rotate(img, cv2.ROTATE_180)\n",
        "  img3 = cv2.rotate(img, cv2.ROTATE_90_COUNTERCLOCKWISE)\n",
        "\n",
        "  rotated_images = [img, img1, img2, img3]\n",
        "  resized_images = []\n",
        "\n",
        "  for r_img in rotated_images:\n",
        "    # Get the dimensions of the original image\n",
        "    height, width, _ = r_img.shape\n",
        "\n",
        "    # Determine the padding required to make the image square\n",
        "    diff = abs(height - width)\n",
        "    padding = diff // 2\n",
        "\n",
        "    # Pad the image with zeros\n",
        "    if height > width:\n",
        "        r_img = cv2.copyMakeBorder(r_img, 0, 0, padding, padding, cv2.BORDER_CONSTANT, value=[0, 0, 0])\n",
        "    else:\n",
        "        r_img = cv2.copyMakeBorder(r_img, padding, padding, 0, 0, cv2.BORDER_CONSTANT, value=[0, 0, 0])\n",
        "\n",
        "    # Resize the image to 256x256\n",
        "    resized = cv2.resize(r_img, (256, 256))\n",
        "    resized_images.append(resized)\n",
        "\n",
        "  return resized_images"
      ],
      "metadata": {
        "id": "AMgwWXRfjeno"
      },
      "execution_count": null,
      "outputs": []
    },
    {
      "cell_type": "code",
      "source": [
        "##this is what actually saves it\n",
        "from google.colab.patches import cv2_imshow #to display\n",
        "\n",
        "# makes our life easier by automating\n",
        "input_folders = [\"y_raw\"]\n",
        "output_folders = [\"y\"]\n",
        "\n",
        "for i in range(len(input_folders)):\n",
        "  print(\"\\nFOLDER \" + str(i + 1) + \" OUT OF 3...\\n\")\n",
        "  \n",
        "  #change the following to work with any input folder and output folder\n",
        "  input_path =\"/content/drive/MyDrive/APS360_Images/Raw_Data/\" + input_folders[i] #this is where the images are coming from \n",
        "  output_path= \"/content/drive/MyDrive/APS360_Images/Final_Data_Acc/\" + output_folders[i] #this is where the roated images are going\n",
        "\n",
        "  #if changing the paths, make sure to change the following line as well. \n",
        "  i_images = [(os.path.join(input_path, f), f) for f in os.listdir(input_path) if (f.endswith('.jpg'))]\n",
        "  o_images = [(os.path.join(output_path, f), f) for f in os.listdir(output_path) if (f.endswith('.jpg'))]\n",
        "\n",
        "  import random\n",
        "  k = random.randint(0, len(i_images))\n",
        "\n",
        "  i_img = cv2.imread(i_images[k][0])\n",
        "  i_img = cv2.cvtColor(i_img, cv2.COLOR_BGR2GRAY)\n",
        "\n",
        "  plt.imshow(i_img, cmap=\"hot\")\n",
        "  plt.show()\n",
        "\n",
        "  print(i_images[k][1])\n",
        "\n",
        "  z = int()\n",
        "  for i, (f1, f2) in enumerate(o_images):\n",
        "    if (i_images[k][1].split(\".\")[0] in f2) and (\"Rotated0\" in f2):\n",
        "      z = i\n",
        "      break\n",
        "  \n",
        "  print(o_images[z][1])\n",
        "  o_img = cv2.imread(o_images[z][0])\n",
        "  o_img = cv2.cvtColor(o_img, cv2.COLOR_BGR2GRAY)\n",
        "  plt.imshow(o_img, cmap=\"hot\")\n",
        "  plt.show()\n",
        "  \"\"\"\n",
        "  #this sets the output dir as current dir\n",
        "  os.chdir(output_path)\n",
        "\n",
        "  numOfImages= len(images)\n",
        "\n",
        "  # Clean memory\n",
        "  gc.collect()\n",
        "\n",
        "  for i in range(numOfImages):\n",
        "    image = cv2.imread(images[i][0])\n",
        "    imageRotated=rotateResizeImage(image)\n",
        "    \n",
        "    #save all the images with edited names, including the original\n",
        "    cv2.imwrite( images[i][1].replace('.jpg', '_Rotated0.jpg'), cv2.cvtColor(imageRotated[0], cv2.COLOR_BGR2RGB))\n",
        "    cv2.imwrite( images[i][1].replace('.jpg', '_Rotated90.jpg'), cv2.cvtColor(imageRotated[1], cv2.COLOR_BGR2RGB))\n",
        "    cv2.imwrite( images[i][1].replace('.jpg', '_Rotated180.jpg'), cv2.cvtColor(imageRotated[2], cv2.COLOR_BGR2RGB))\n",
        "    cv2.imwrite( images[i][1].replace('.jpg', '_Rotated270.jpg'), cv2.cvtColor(imageRotated[3], cv2.COLOR_BGR2RGB))\n",
        "    print(\"Done processing image {0}/1152...\".format(i+1))\"\"\""
      ],
      "metadata": {
        "id": "AK0b9d1NhA-8",
        "colab": {
          "base_uri": "https://localhost:8080/",
          "height": 608
        },
        "outputId": "0eea0a98-2a80-4f44-9f70-22edb8e4087c"
      },
      "execution_count": null,
      "outputs": [
        {
          "output_type": "stream",
          "name": "stdout",
          "text": [
            "\n",
            "FOLDER 1 OUT OF 3...\n",
            "\n"
          ]
        },
        {
          "output_type": "display_data",
          "data": {
            "text/plain": [
              "<Figure size 432x288 with 1 Axes>"
            ],
            "image/png": "[encoded data removed]"
          },
          "metadata": {
            "needs_background": "light"
          }
        },
        {
          "output_type": "stream",
          "name": "stdout",
          "text": [
            "C92_D2_P2.jpg\n",
            "C92_D2_P2_Rotated0.jpg\n"
          ]
        },
        {
          "output_type": "display_data",
          "data": {
            "text/plain": [
              "<Figure size 432x288 with 1 Axes>"
            ],
            "image/png": "[encoded data removed]"
          },
          "metadata": {
            "needs_background": "light"
          }
        }
      ]
    },
    {
      "cell_type": "code",
      "source": [
        "from google.colab import drive\n",
        "drive.mount('/content/drive')"
      ],
      "metadata": {
        "colab": {
          "base_uri": "https://localhost:8080/"
        },
        "id": "00p166_U_i7K",
        "outputId": "eef5216f-7d6f-4d4a-c80e-9e916407e806"
      },
      "execution_count": 7,
      "outputs": [
        {
          "output_type": "stream",
          "name": "stdout",
          "text": [
            "Drive already mounted at /content/drive; to attempt to forcibly remount, call drive.mount(\"/content/drive\", force_remount=True).\n"
          ]
        }
      ]
    },
    {
      "cell_type": "code",
      "source": [
        "import torch\n",
        "import torch.nn as nn\n",
        "import torch.nn.functional as F\n",
        "import torchvision.transforms as transforms\n",
        "\n",
        "from torch.cuda.amp import autocast, GradScaler\n",
        "from torch.utils.data import Dataset, DataLoader\n",
        "from PIL import Image"
      ],
      "metadata": {
        "id": "1A4SOkgEv36I"
      },
      "execution_count": 8,
      "outputs": []
    },
    {
      "cell_type": "code",
      "source": [
        "from operator import truediv\n",
        "# Code to retrieve data and make DataLoaders\n",
        "# 0.8, 0.1, 0.1 split?\n",
        "\n",
        "# Define custom dataset class that inherits from torch Dataset in order to load data\n",
        "class ImageDataset(Dataset):\n",
        "    def __init__(self, root_dir, bool_RGB=True, num_classes=46):\n",
        "        self.x_dir = os.path.join(root_dir, \"x_RGB\" if bool_RGB else \"x_gray\")\n",
        "        self.y_dir = os.path.join(root_dir, 'y')\n",
        "        \n",
        "        self.filenames = os.listdir(self.x_dir)\n",
        "        self.bool_RGB = bool_RGB\n",
        "        self.num_classes = num_classes\n",
        "        \n",
        "        # Define transform to convert images to Tensors that can be fed to model directly\n",
        "        self.transform = transforms.Compose([\n",
        "            transforms.ToTensor()\n",
        "        ])\n",
        "\n",
        "    def __len__(self):\n",
        "        return len(self.filenames)\n",
        "\n",
        "    def __getitem__(self, idx):\n",
        "        x_path = os.path.join(self.x_dir, self.filenames[idx])\n",
        "        y_path = os.path.join(self.y_dir, self.filenames[idx])\n",
        "\n",
        "        x = self.transform(Image.open(x_path).convert('RGB' if self.bool_RGB else \"L\")).to(torch.float32)\n",
        "\n",
        "        # Convert image to tensor, clip values to num_classes, \n",
        "        # then one-hot encode the labellings\n",
        "        # Then convert to NCHW format, then convert to float32\n",
        "        y = torch.from_numpy(np.array(Image.open(y_path).convert(\"L\")))\n",
        "        y = torch.clamp(y, max=self.num_classes-1)\n",
        "        y = F.one_hot(y.to(torch.int64), self.num_classes)\n",
        "        y = y.permute(2, 0, 1).to(torch.float32)\n",
        "\n",
        "        return x, y\n",
        "\n",
        "\n",
        "# Define the dataset and separate training, val, test\n",
        "torch.manual_seed(1000)\n",
        "dataset = ImageDataset(\"/content/drive/MyDrive/APS360_Images/Final_Data_Acc/\", bool_RGB=True) # set to false if training on grayscale\n",
        "\n",
        "# Calculate the number of examples for each split\n",
        "num_train = int(len(dataset) * 0.8)\n",
        "num_val = int(len(dataset) * 0.1)\n",
        "num_test = len(dataset) - num_train - num_val\n",
        "\n",
        "# Split the dataset into three parts\n",
        "train_dataset, val_dataset, test_dataset = torch.utils.data.random_split(dataset, [num_train, num_val, num_test])\n",
        "\n",
        "\"\"\"\n",
        "# Create DataLoaders for each part\n",
        "batch_size = 32\n",
        "\n",
        "train_dataloader = DataLoader(train_dataset, batch_size=batch_size, shuffle=True)\n",
        "val_dataloader = DataLoader(val_dataset, batch_size=batch_size, shuffle=False)\n",
        "test_dataloader = DataLoader(test_dataset, batch_size=batch_size, shuffle=False)\"\"\""
      ],
      "metadata": {
        "id": "kLhQUcT-RfOx",
        "colab": {
          "base_uri": "https://localhost:8080/",
          "height": 71
        },
        "outputId": "b82c8bd4-8a42-4bd4-9638-df2371d6df9a"
      },
      "execution_count": 39,
      "outputs": [
        {
          "output_type": "execute_result",
          "data": {
            "text/plain": [
              "'\\n# Create DataLoaders for each part\\nbatch_size = 32\\n\\ntrain_dataloader = DataLoader(train_dataset, batch_size=batch_size, shuffle=True)\\nval_dataloader = DataLoader(val_dataset, batch_size=batch_size, shuffle=False)\\ntest_dataloader = DataLoader(test_dataset, batch_size=batch_size, shuffle=False)'"
            ],
            "application/vnd.google.colaboratory.intrinsic+json": {
              "type": "string"
            }
          },
          "metadata": {},
          "execution_count": 39
        }
      ]
    },
    {
      "cell_type": "code",
      "source": [
        "print(len(dataset))\n",
        "train_dataloader = DataLoader(train_dataset, batch_size=32, shuffle=True)\n",
        "for (input, label) in train_dataloader:\n",
        "  print(input.shape)\n",
        "  break"
      ],
      "metadata": {
        "id": "t9BV01LD0SL8",
        "colab": {
          "base_uri": "https://localhost:8080/"
        },
        "outputId": "3beac8c3-5972-4e5e-8ee2-447339f5a8cf"
      },
      "execution_count": 40,
      "outputs": [
        {
          "output_type": "stream",
          "name": "stdout",
          "text": [
            "4608\n",
            "torch.Size([32, 3, 256, 256])\n"
          ]
        }
      ]
    },
    {
      "cell_type": "code",
      "source": [
        "import torchvision.models as models\n",
        "\n",
        "class Autoencoder(nn.Module):\n",
        "    def __init__(self, num_components):\n",
        "        super(Autoencoder, self).__init__()\n",
        "        # input size = 1024*1024\n",
        "        self.num_components = num_components\n",
        "        self.resnet = models.resnet50(pretrained=True)\n",
        "        # Remove the last linear layer and replace it with a convolutional layer\n",
        "        self.encoder = nn.Sequential(*list(self.resnet.children())[:-1], nn.Conv2d(2048, 4096, kernel_size=1))\n",
        "        self.decoder = nn.Sequential(\n",
        "            nn.ConvTranspose2d(4096, 2048, kernel_size=2, stride=1),\n",
        "            nn.ReLU(inplace=True),\n",
        "            nn.ConvTranspose2d(2048, 1024, kernel_size=3, stride=2, padding=1),\n",
        "            nn.ReLU(inplace=True),\n",
        "            nn.ConvTranspose2d(1024, 512, kernel_size=3, stride=2, padding=1, output_padding=1),\n",
        "            nn.ReLU(inplace=True),\n",
        "            nn.ConvTranspose2d(512, 256, kernel_size=3, stride=2, padding=1, output_padding=1),\n",
        "            nn.ReLU(inplace=True),\n",
        "            nn.ConvTranspose2d(256, 128, kernel_size=3, stride=2, padding=1, output_padding=1),\n",
        "            nn.ReLU(inplace=True),\n",
        "            nn.ConvTranspose2d(128, 64, kernel_size=3, stride=2, padding=1, output_padding=1),\n",
        "            nn.ReLU(inplace=True),\n",
        "            nn.ConvTranspose2d(64, 60, kernel_size=3, stride=2, padding=1, output_padding=1),\n",
        "            nn.ReLU(inplace=True),\n",
        "            nn.ConvTranspose2d(60, 55, kernel_size=3, stride=2, padding=1, output_padding=1),\n",
        "            nn.ReLU(inplace=True),\n",
        "            nn.ConvTranspose2d(55, 50, kernel_size=3, stride=2, padding=1, output_padding=1),\n",
        "            nn.ReLU(inplace=True),\n",
        "            nn.ConvTranspose2d(50, self.num_components, kernel_size=3, stride=2, padding=1),\n",
        "            nn.Tanh()\n",
        "        )\n",
        "\n",
        "    def forwardRGB(self, x):\n",
        "        x = self.encoder(x)\n",
        "        x = self.decoder(x)\n",
        "        return x\n",
        "    \n",
        "    def forwardGray(self, x):\n",
        "        x = np.repeat(x[..., np.newaxis], 3, -1) # repeat the gray cahnnel for 3 channels. double check this\n",
        "        x = self.encoder(x)\n",
        "        x = self.decoder(x)\n",
        "        return x"
      ],
      "metadata": {
        "id": "9GLiJB-a_P8K"
      },
      "execution_count": 73,
      "outputs": []
    },
    {
      "cell_type": "code",
      "source": [
        "def trainModel(model, train_data, valid_data, num_epochs=5, batch_size=64, learning_rate=1e-3, plot = True, model_forward=None):\n",
        "    # Move stuff to GPU\n",
        "    #  \n",
        "    # device = torch.device(\"cuda\" if torch.cuda.is_available() else \"cpu\")\n",
        "    # torch.cuda.empty_cache()\n",
        "    torch.manual_seed(42)\n",
        "\n",
        "    # model.to(device)\n",
        "\n",
        "    criterion = nn.CrossEntropyLoss() # mean square error loss\n",
        "    optimizer = torch.optim.Adam(model.parameters(), lr=learning_rate) \n",
        "    scaler = GradScaler()\n",
        "    \n",
        "    train_loader = torch.utils.data.DataLoader(train_data, batch_size=batch_size, shuffle=True)\n",
        "    valid_loader = torch.utils.data.DataLoader(valid_data, batch_size=batch_size, shuffle=True)\n",
        "\n",
        "    train_loss_total, valid_loss_total = [], []\n",
        "    \n",
        "    for epoch in range(num_epochs):\n",
        "        # Clear ram to save from crashing\n",
        "        gc.collect()\n",
        "\n",
        "        for train_img, train_label in train_loader:\n",
        "\n",
        "            # train_img = train_img.to(device)\n",
        "            # train_label = train_label.to(device)\n",
        "\n",
        "            train_output = model_forward(train_img)\n",
        "\n",
        "            # Compute the loss\n",
        "            print(train_label.shape)\n",
        "            print(train_output.shape)\n",
        "            train_loss = criterion(train_output, train_label)\n",
        "\n",
        "            #train_img = train_img.view(-1, 1024*1024*3)\n",
        "            print(train_loss)\n",
        "            #train_loss.backward()\n",
        "            # Backward pass\n",
        "            scaler.scale(train_loss).backward()\n",
        "            \n",
        "            nn.utils.clip_grad_norm_(model.parameters(), max_norm=1.0)\n",
        "            \n",
        "            #optimizer.step()\n",
        "            #optimizer.zero_grad()\n",
        "\n",
        "            # Update the weights\n",
        "            scaler.step(optimizer)\n",
        "            \n",
        "            # Update the scaler for mixed precision training\n",
        "            scaler.update()\n",
        "        \n",
        "        for valid_img, valid_label in valid_loader:\n",
        "            valid_output = model_forward(valid_img)\n",
        "            valid_loss = criterion(valid_output, valid_label)\n",
        "\n",
        "        print('Epoch:{}, Train Loss:{:.4f}, Valid Loss:{:.4f}'.format(epoch+1, float(train_loss), float(valid_loss)))\n",
        "        train_loss_total.append(train_loss.cpu().detach().numpy())\n",
        "        valid_loss_total.append(valid_loss.cpu().detach().numpy())\n",
        "        \n",
        "        \n",
        "    if plot:\n",
        "        plt.title(\"Training/Validation loss\")\n",
        "        plt.plot(train_loss_total, label=\"Training Loss\")\n",
        "        plt.plot(valid_loss_total, label=\"Validation Loss\")\n",
        "        plt.xlabel(\"Iterations\")\n",
        "        plt.legend(loc='best')\n",
        "        plt.show()\n",
        "        \n",
        "        # plt.figure()\n",
        "        # plt.title(\"Training/Validation loss\")\n",
        "        # plt.plot(train_accs, label=\"Training Accuracy\")\n",
        "        # plt.plot(val_accs, label=\"Validation Accuracy\")\n",
        "        # plt.xlabel(\"Iterations\")\n",
        "        # plt.legend(loc='best')\n",
        "        # plt.show()\n",
        "         \n",
        "    # Save the model\n",
        "    torch.save(model.state_dict(), type(model).__name__ + \"lr{0}_bs{1}_ep{2}\".format(learning_rate, batch_size, num_epochs))\n",
        "\n",
        "    return train_loss_total, valid_loss_total"
      ],
      "metadata": {
        "id": "nb4Zb0_AVhg8"
      },
      "execution_count": 77,
      "outputs": []
    },
    {
      "cell_type": "code",
      "source": [
        "train_loader = torch.utils.data.DataLoader(train_dataset, batch_size=64, shuffle=True)\n",
        "for img, label in train_loader:\n",
        "  print(label.shape)\n",
        "  break"
      ],
      "metadata": {
        "colab": {
          "base_uri": "https://localhost:8080/"
        },
        "id": "luvDPJE0D4Xu",
        "outputId": "1876d3e4-61b7-41b3-9a99-2dee9229d966"
      },
      "execution_count": 38,
      "outputs": [
        {
          "output_type": "stream",
          "name": "stdout",
          "text": [
            "torch.Size([64, 46, 256, 256])\n"
          ]
        }
      ]
    },
    {
      "cell_type": "code",
      "source": [
        "# Clear ram before defining model\n",
        "gc.collect()\n",
        "\n",
        "autoencoder = Autoencoder(num_components=46)\n",
        "\n",
        "trainModel(autoencoder, \n",
        "           train_data=train_dataset, \n",
        "           valid_data=val_dataset, \n",
        "           batch_size=32, \n",
        "           num_epochs=5, \n",
        "           learning_rate=0.0001,\n",
        "           model_forward=autoencoder.forwardRGB)"
      ],
      "metadata": {
        "colab": {
          "base_uri": "https://localhost:8080/"
        },
        "id": "iJMn7t4DAuVP",
        "outputId": "2525f516-44ce-4419-97e1-81e4d5a05efd"
      },
      "execution_count": null,
      "outputs": [
        {
          "output_type": "stream",
          "name": "stdout",
          "text": [
            "torch.Size([32, 4096, 1, 1])\n"
          ]
        }
      ]
    }
  ]
}